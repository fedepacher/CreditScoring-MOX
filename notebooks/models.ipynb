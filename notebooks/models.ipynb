{
 "cells": [
  {
   "cell_type": "code",
   "execution_count": 34,
   "metadata": {},
   "outputs": [
    {
     "name": "stderr",
     "output_type": "stream",
     "text": [
      "c:\\Users\\Asus\\AppData\\Local\\Programs\\Python\\Python311\\Lib\\site-packages\\sklearn\\cluster\\_kmeans.py:870: FutureWarning: The default value of `n_init` will change from 10 to 'auto' in 1.4. Set the value of `n_init` explicitly to suppress the warning\n",
      "  warnings.warn(\n"
     ]
    }
   ],
   "source": [
    "import pandas as pd\n",
    "from sklearn.preprocessing import StandardScaler\n",
    "from sklearn.cluster import KMeans\n",
    "from sklearn.decomposition import PCA\n",
    "from sklearn.model_selection import train_test_split\n",
    "from sklearn.ensemble import RandomForestRegressor\n",
    "from sklearn.metrics import mean_squared_error, r2_score, accuracy_score\n",
    "from sklearn.ensemble import RandomForestClassifier\n",
    "from IPython.display import display, HTML\n",
    "\n",
    "# Cargar los datos y realizar el preprocesamiento\n",
    "df_ml = pd.read_csv('../Data/df_ML_final_2.csv')\n",
    "\n",
    "# Eliminar las columnas 'target'  del DataFrame original y guardarlo en otro Df\n",
    "df_target = df_ml[['target']]\n",
    "df_ml = df_ml.drop(columns=['target'])\n",
    "\n",
    "# PCA variables relacionadas\n",
    "variables = ['decil_ingreso_ENIGH', 'liquidez_porcentual', 'costo_de_vida']\n",
    "pca = PCA(n_components=1)\n",
    "df_ml['ENIGH'] = pca.fit_transform(df_ml[variables])\n",
    "df_ml = df_ml.drop(columns=variables)\n",
    "\n",
    "# Clusterización \n",
    "optimal_clusters= 4\n",
    "scaler = StandardScaler()\n",
    "df_ml_scaled = scaler.fit_transform(df_ml)\n",
    "kmeans = KMeans(n_clusters=optimal_clusters, random_state=42)\n",
    "kmeans.fit(df_ml_scaled)\n",
    "df_ml['cluster'] = kmeans.labels_\n",
    "\n",
    "# concatenar los dfs\n",
    "df_ml = pd.concat([df_ml, df_target], axis=1)\n",
    "\n",
    "# Score y cluster\n",
    "X = df_ml.drop(['target', 'cluster'], axis=1)\n",
    "y_score = df_ml['target'] \n",
    "y_cluster = df_ml['cluster'] \n",
    "\n",
    "X_train, X_test, y_train_score, y_test_score = train_test_split(X, y_score, test_size=0.3, \n",
    "                                                                random_state=42)\n",
    "y_train_cluster, y_test_cluster = train_test_split(y_cluster, test_size=0.3, random_state=42)\n",
    "\n",
    "scaler = StandardScaler()\n",
    "scaler.fit(X_train)\n",
    "X_train_scaled = scaler.transform(X_train)\n",
    "X_test_scaled = scaler.transform(X_test)\n",
    "\n",
    "# Modelo de regresión Random Forest para predecir score crediticio\n",
    "rf_reg = RandomForestRegressor(random_state=42)\n",
    "rf_reg.fit(X_train_scaled, y_train_score)\n",
    "\n",
    "# Modelo de clasificación Random Forest para predecir el cluster\n",
    "rf_clf = RandomForestClassifier(random_state=42)\n",
    "rf_clf.fit(X_train_scaled, y_train_cluster)\n",
    "\n",
    "\n",
    "# Función para clasificar a los clientes\n",
    "def clasificar_clientes(ingreso, \n",
    "                        antiguedad_laboral_meses, \n",
    "                        tiempo_desempleado,\n",
    "                        trabajos_ultimos_5, \n",
    "                        semanasCotizadas, \n",
    "                        edad, \n",
    "                        crecimiento_ingreso, \n",
    "                        crecimiento_gral, \n",
    "                        ENIGH):\n",
    "\n",
    "    # Crear el DataFrame para el cliente\n",
    "    cliente = pd.DataFrame(data={\n",
    "        'ingreso': [ingreso],\n",
    "        'antiguedad_laboral_meses': [antiguedad_laboral_meses],\n",
    "        'tiempo_desempleado': [tiempo_desempleado],\n",
    "        'trabajos_ultimos_5': [trabajos_ultimos_5],\n",
    "        'semanasCotizadas': [semanasCotizadas],\n",
    "        'edad': [edad],\n",
    "        'crecimiento_ingreso': [crecimiento_ingreso],\n",
    "        'crecimiento_gral' : [crecimiento_gral],\n",
    "        'ENIGH' : [ENIGH]\n",
    "    }, index=[0])\n",
    "\n",
    "    # Escalar los datos del cliente\n",
    "    cliente_scaled = scaler.transform(cliente)\n",
    "\n",
    "    # Obtener la predicción del score (modelo de regresión) y del cluster (modelo de clasificación) \n",
    "    # para el cliente\n",
    "    puntuacion_credito = rf_reg.predict(cliente_scaled)[0]\n",
    "    cluster_predicho = rf_clf.predict(cliente_scaled)[0]\n",
    "\n",
    "    return puntuacion_credito, cluster_predicho\n"
   ]
  },
  {
   "cell_type": "code",
   "execution_count": 35,
   "metadata": {},
   "outputs": [
    {
     "data": {
      "text/html": [
       "El score del cliente es <b>678.66</b> y pertenece al cluster <b>2</b>"
      ],
      "text/plain": [
       "<IPython.core.display.HTML object>"
      ]
     },
     "metadata": {},
     "output_type": "display_data"
    }
   ],
   "source": [
    "score_cliente, cluster_cliente = clasificar_clientes(ingreso=45000,\n",
    "                                                        antiguedad_laboral_meses=50, \n",
    "                                                        tiempo_desempleado=0,\n",
    "                                                        trabajos_ultimos_5=1, \n",
    "                                                        semanasCotizadas=1000, \n",
    "                                                        edad=32, \n",
    "                                                        crecimiento_ingreso=265.38, \n",
    "                                                        crecimiento_gral= 0, \n",
    "                                                        ENIGH=9)\n",
    "\n",
    "display(HTML(\"El score del cliente es <b>{}</b> y pertenece al cluster <b>{}</b>\".format(round(score_cliente*1000, 2), cluster_cliente)))"
   ]
  },
  {
   "cell_type": "code",
   "execution_count": 36,
   "metadata": {},
   "outputs": [
    {
     "data": {
      "text/plain": [
       "ingreso                       0.000000\n",
       "antiguedad_laboral_meses      0.000000\n",
       "tiempo_desempleado           13.000000\n",
       "trabajos_ultimos_5            2.000000\n",
       "semanasCotizadas            198.000000\n",
       "edad                         29.000000\n",
       "crecimiento_ingreso           0.000000\n",
       "crecimiento_gral              2.125347\n",
       "ENIGH                      -105.754855\n",
       "cluster                       0.000000\n",
       "target                        0.437500\n",
       "Name: 4589, dtype: float64"
      ]
     },
     "execution_count": 36,
     "metadata": {},
     "output_type": "execute_result"
    }
   ],
   "source": [
    "df_ml.iloc[4589]"
   ]
  },
  {
   "cell_type": "code",
   "execution_count": 37,
   "metadata": {},
   "outputs": [
    {
     "data": {
      "text/html": [
       "El score del cliente es <b>437.5</b> y pertenece al cluster <b>0</b>"
      ],
      "text/plain": [
       "<IPython.core.display.HTML object>"
      ]
     },
     "metadata": {},
     "output_type": "display_data"
    }
   ],
   "source": [
    "score_cliente2, cluster_cliente2 = clasificar_clientes(ingreso=0,\n",
    "                                                        antiguedad_laboral_meses=0, \n",
    "                                                        tiempo_desempleado=13,\n",
    "                                                        trabajos_ultimos_5=2, \n",
    "                                                        semanasCotizadas=198, \n",
    "                                                        edad=29, \n",
    "                                                        crecimiento_ingreso=0, \n",
    "                                                        crecimiento_gral=2, \n",
    "                                                        ENIGH=-105)\n",
    "\n",
    "display(HTML(\"El score del cliente es <b>{}</b> y pertenece al cluster <b>{}</b>\".format(round(score_cliente2*1000, 2), cluster_cliente2)))"
   ]
  },
  {
   "cell_type": "code",
   "execution_count": 38,
   "metadata": {},
   "outputs": [
    {
     "data": {
      "text/plain": [
       "ingreso                     13472.080000\n",
       "antiguedad_laboral_meses       62.000000\n",
       "tiempo_desempleado              0.000000\n",
       "trabajos_ultimos_5              1.000000\n",
       "semanasCotizadas              561.000000\n",
       "edad                           46.000000\n",
       "crecimiento_ingreso             0.000000\n",
       "crecimiento_gral                1.481252\n",
       "ENIGH                          19.892769\n",
       "cluster                         2.000000\n",
       "target                          0.651389\n",
       "Name: 15232, dtype: float64"
      ]
     },
     "execution_count": 38,
     "metadata": {},
     "output_type": "execute_result"
    }
   ],
   "source": [
    "df_ml.iloc[15232]"
   ]
  },
  {
   "cell_type": "code",
   "execution_count": 39,
   "metadata": {},
   "outputs": [
    {
     "data": {
      "text/html": [
       "El score del cliente es <b>653.99</b> y pertenece al cluster <b>2</b>"
      ],
      "text/plain": [
       "<IPython.core.display.HTML object>"
      ]
     },
     "metadata": {},
     "output_type": "display_data"
    }
   ],
   "source": [
    "score_cliente3, cluster_cliente3 = clasificar_clientes(ingreso=13472,\n",
    "                                                        antiguedad_laboral_meses=62, \n",
    "                                                        tiempo_desempleado=0,\n",
    "                                                        trabajos_ultimos_5=1, \n",
    "                                                        semanasCotizadas=561, \n",
    "                                                        edad=46, \n",
    "                                                        crecimiento_ingreso=0, \n",
    "                                                        crecimiento_gral=1.481252, \n",
    "                                                        ENIGH=19.892769)\n",
    "\n",
    "display(HTML(\"El score del cliente es <b>{}</b> y pertenece al cluster <b>{}</b>\".format(round(score_cliente3*1000, 2), cluster_cliente3)))"
   ]
  }
 ],
 "metadata": {
  "kernelspec": {
   "display_name": "Python 3",
   "language": "python",
   "name": "python3"
  },
  "language_info": {
   "codemirror_mode": {
    "name": "ipython",
    "version": 3
   },
   "file_extension": ".py",
   "mimetype": "text/x-python",
   "name": "python",
   "nbconvert_exporter": "python",
   "pygments_lexer": "ipython3",
   "version": "3.11.2"
  },
  "orig_nbformat": 4
 },
 "nbformat": 4,
 "nbformat_minor": 2
}
