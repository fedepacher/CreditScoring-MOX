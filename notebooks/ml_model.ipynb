{
 "cells": [
  {
   "cell_type": "markdown",
   "metadata": {},
   "source": [
    "# MAKING A FINAL CSV TO BE SENT TO MACHINE LEARNING MODEL"
   ]
  },
  {
   "cell_type": "code",
   "execution_count": 20,
   "metadata": {},
   "outputs": [],
   "source": [
    "import pandas as pd\n",
    "import numpy as np\n",
    "from dvc import api\n",
    "from io import StringIO"
   ]
  },
  {
   "cell_type": "code",
   "execution_count": 21,
   "metadata": {},
   "outputs": [],
   "source": [
    "df_path = api.read('../dataset/data_prueba_limpia.csv', remote='dataset-track')"
   ]
  },
  {
   "cell_type": "code",
   "execution_count": 22,
   "metadata": {},
   "outputs": [],
   "source": [
    "df_scoring = pd.read_csv(StringIO(df_path))"
   ]
  },
  {
   "cell_type": "code",
   "execution_count": 23,
   "metadata": {},
   "outputs": [
    {
     "data": {
      "text/html": [
       "<div>\n",
       "<style scoped>\n",
       "    .dataframe tbody tr th:only-of-type {\n",
       "        vertical-align: middle;\n",
       "    }\n",
       "\n",
       "    .dataframe tbody tr th {\n",
       "        vertical-align: top;\n",
       "    }\n",
       "\n",
       "    .dataframe thead th {\n",
       "        text-align: right;\n",
       "    }\n",
       "</style>\n",
       "<table border=\"1\" class=\"dataframe\">\n",
       "  <thead>\n",
       "    <tr style=\"text-align: right;\">\n",
       "      <th></th>\n",
       "      <th>ingreso</th>\n",
       "      <th>antiguedad_laboral_meses</th>\n",
       "      <th>trabajos_ultimos_5</th>\n",
       "      <th>edad</th>\n",
       "      <th>crecimiento_ingreso</th>\n",
       "      <th>lugar_actual</th>\n",
       "      <th>target</th>\n",
       "      <th>target_cientos</th>\n",
       "      <th>target_regression</th>\n",
       "      <th>target_etiquetas</th>\n",
       "    </tr>\n",
       "  </thead>\n",
       "  <tbody>\n",
       "    <tr>\n",
       "      <th>0</th>\n",
       "      <td>6620.78</td>\n",
       "      <td>18</td>\n",
       "      <td>7</td>\n",
       "      <td>32</td>\n",
       "      <td>45.11</td>\n",
       "      <td>YUCATÁN</td>\n",
       "      <td>0.54</td>\n",
       "      <td>540.0</td>\n",
       "      <td>0</td>\n",
       "      <td>desfavorable</td>\n",
       "    </tr>\n",
       "    <tr>\n",
       "      <th>1</th>\n",
       "      <td>21333.59</td>\n",
       "      <td>24</td>\n",
       "      <td>4</td>\n",
       "      <td>49</td>\n",
       "      <td>29.45</td>\n",
       "      <td>MÉXICO</td>\n",
       "      <td>0.64</td>\n",
       "      <td>640.0</td>\n",
       "      <td>0</td>\n",
       "      <td>aceptable</td>\n",
       "    </tr>\n",
       "    <tr>\n",
       "      <th>2</th>\n",
       "      <td>0.00</td>\n",
       "      <td>0</td>\n",
       "      <td>0</td>\n",
       "      <td>39</td>\n",
       "      <td>0.00</td>\n",
       "      <td>DISTRITO FEDERAL</td>\n",
       "      <td>0.26</td>\n",
       "      <td>260.0</td>\n",
       "      <td>0</td>\n",
       "      <td>desfavorable</td>\n",
       "    </tr>\n",
       "    <tr>\n",
       "      <th>3</th>\n",
       "      <td>21225.31</td>\n",
       "      <td>36</td>\n",
       "      <td>6</td>\n",
       "      <td>30</td>\n",
       "      <td>441.83</td>\n",
       "      <td>NUEVO LEÓN</td>\n",
       "      <td>0.62</td>\n",
       "      <td>620.0</td>\n",
       "      <td>0</td>\n",
       "      <td>aceptable</td>\n",
       "    </tr>\n",
       "    <tr>\n",
       "      <th>4</th>\n",
       "      <td>0.00</td>\n",
       "      <td>0</td>\n",
       "      <td>1</td>\n",
       "      <td>23</td>\n",
       "      <td>0.00</td>\n",
       "      <td>HIDALGO</td>\n",
       "      <td>0.40</td>\n",
       "      <td>400.0</td>\n",
       "      <td>0</td>\n",
       "      <td>desfavorable</td>\n",
       "    </tr>\n",
       "  </tbody>\n",
       "</table>\n",
       "</div>"
      ],
      "text/plain": [
       "    ingreso  antiguedad_laboral_meses  trabajos_ultimos_5  edad  \\\n",
       "0   6620.78                        18                   7    32   \n",
       "1  21333.59                        24                   4    49   \n",
       "2      0.00                         0                   0    39   \n",
       "3  21225.31                        36                   6    30   \n",
       "4      0.00                         0                   1    23   \n",
       "\n",
       "   crecimiento_ingreso      lugar_actual  target  target_cientos  \\\n",
       "0                45.11           YUCATÁN    0.54           540.0   \n",
       "1                29.45            MÉXICO    0.64           640.0   \n",
       "2                 0.00  DISTRITO FEDERAL    0.26           260.0   \n",
       "3               441.83        NUEVO LEÓN    0.62           620.0   \n",
       "4                 0.00           HIDALGO    0.40           400.0   \n",
       "\n",
       "   target_regression target_etiquetas  \n",
       "0                  0     desfavorable  \n",
       "1                  0        aceptable  \n",
       "2                  0     desfavorable  \n",
       "3                  0        aceptable  \n",
       "4                  0     desfavorable  "
      ]
     },
     "execution_count": 23,
     "metadata": {},
     "output_type": "execute_result"
    }
   ],
   "source": [
    "df_scoring.head()"
   ]
  },
  {
   "attachments": {},
   "cell_type": "markdown",
   "metadata": {},
   "source": [
    "# Modeling"
   ]
  },
  {
   "cell_type": "code",
   "execution_count": 24,
   "metadata": {},
   "outputs": [],
   "source": [
    "from sklearn.model_selection import train_test_split\n",
    "from sklearn.pipeline import Pipeline\n",
    "from sklearn.impute import SimpleImputer\n",
    "from sklearn.ensemble import GradientBoostingRegressor\n",
    "from sklearn.model_selection import cross_validate"
   ]
  },
  {
   "cell_type": "code",
   "execution_count": 25,
   "metadata": {},
   "outputs": [],
   "source": [
    "X = df_scoring.drop(['target', 'lugar_actual', 'target_etiquetas', 'target_cientos', 'target_regression'], axis = 1)\n",
    "y = df_scoring['target']"
   ]
  },
  {
   "cell_type": "code",
   "execution_count": 26,
   "metadata": {},
   "outputs": [],
   "source": [
    "pipeline = Pipeline([\n",
    "    ('imputer', SimpleImputer(missing_values=np.nan, strategy='mean')),\n",
    "    ('core_model', GradientBoostingRegressor())\n",
    "])"
   ]
  },
  {
   "cell_type": "code",
   "execution_count": 27,
   "metadata": {},
   "outputs": [
    {
     "data": {
      "text/plain": [
       "{'fit_time': array([0.01660204, 0.01592994]),\n",
       " 'score_time': array([0.00171423, 0.00180721]),\n",
       " 'test_score': array([0.39174707, 0.10550588]),\n",
       " 'train_score': array([1., 1.])}"
      ]
     },
     "execution_count": 27,
     "metadata": {},
     "output_type": "execute_result"
    }
   ],
   "source": [
    "results = cross_validate(pipeline ,X,y,return_train_score=True,cv=2)\n",
    "results"
   ]
  },
  {
   "cell_type": "code",
   "execution_count": 28,
   "metadata": {},
   "outputs": [
    {
     "name": "stdout",
     "output_type": "stream",
     "text": [
      "Train Score: 0.9999999992944921\n",
      "Test Score: 0.24862647790013137\n"
     ]
    }
   ],
   "source": [
    "train_score = np.mean(results['train_score'])\n",
    "test_score = np.mean(results['test_score'])\n",
    "# assert train_score > 0.7\n",
    "# assert test_score > 0.65\n",
    "print(f'Train Score: {train_score}')\n",
    "print(f'Test Score: {test_score}')"
   ]
  },
  {
   "attachments": {},
   "cell_type": "markdown",
   "metadata": {},
   "source": [
    "## Hyperparameter tunning"
   ]
  },
  {
   "cell_type": "code",
   "execution_count": 29,
   "metadata": {},
   "outputs": [],
   "source": [
    "from sklearn.model_selection import GridSearchCV"
   ]
  },
  {
   "cell_type": "code",
   "execution_count": 30,
   "metadata": {},
   "outputs": [],
   "source": [
    "param_tunning = {'core_model__n_estimators': range(20,501,20)} "
   ]
  },
  {
   "cell_type": "code",
   "execution_count": 31,
   "metadata": {},
   "outputs": [],
   "source": [
    "estimator = Pipeline([\n",
    "    ('imputer', SimpleImputer(missing_values=np.nan, strategy='mean')),\n",
    "    ('core_model', GradientBoostingRegressor())\n",
    "])"
   ]
  },
  {
   "cell_type": "code",
   "execution_count": 32,
   "metadata": {},
   "outputs": [],
   "source": [
    "grid_search= GridSearchCV(estimator,\n",
    "                       param_grid = param_tunning,\n",
    "                       scoring='r2',\n",
    "                       cv=2) "
   ]
  },
  {
   "cell_type": "code",
   "execution_count": 33,
   "metadata": {},
   "outputs": [],
   "source": [
    "X_train, X_test, y_train, y_test = train_test_split(X,y, test_size = 0.35,random_state= 42)"
   ]
  },
  {
   "cell_type": "code",
   "execution_count": 34,
   "metadata": {},
   "outputs": [
    {
     "name": "stderr",
     "output_type": "stream",
     "text": [
      "/home/fede/anaconda3/lib/python3.9/site-packages/sklearn/metrics/_regression.py:796: UndefinedMetricWarning: R^2 score is not well-defined with less than two samples.\n",
      "  warnings.warn(msg, UndefinedMetricWarning)\n",
      "/home/fede/anaconda3/lib/python3.9/site-packages/sklearn/metrics/_regression.py:796: UndefinedMetricWarning: R^2 score is not well-defined with less than two samples.\n",
      "  warnings.warn(msg, UndefinedMetricWarning)\n",
      "/home/fede/anaconda3/lib/python3.9/site-packages/sklearn/metrics/_regression.py:796: UndefinedMetricWarning: R^2 score is not well-defined with less than two samples.\n",
      "  warnings.warn(msg, UndefinedMetricWarning)\n",
      "/home/fede/anaconda3/lib/python3.9/site-packages/sklearn/metrics/_regression.py:796: UndefinedMetricWarning: R^2 score is not well-defined with less than two samples.\n",
      "  warnings.warn(msg, UndefinedMetricWarning)\n",
      "/home/fede/anaconda3/lib/python3.9/site-packages/sklearn/metrics/_regression.py:796: UndefinedMetricWarning: R^2 score is not well-defined with less than two samples.\n",
      "  warnings.warn(msg, UndefinedMetricWarning)\n",
      "/home/fede/anaconda3/lib/python3.9/site-packages/sklearn/metrics/_regression.py:796: UndefinedMetricWarning: R^2 score is not well-defined with less than two samples.\n",
      "  warnings.warn(msg, UndefinedMetricWarning)\n",
      "/home/fede/anaconda3/lib/python3.9/site-packages/sklearn/metrics/_regression.py:796: UndefinedMetricWarning: R^2 score is not well-defined with less than two samples.\n",
      "  warnings.warn(msg, UndefinedMetricWarning)\n",
      "/home/fede/anaconda3/lib/python3.9/site-packages/sklearn/metrics/_regression.py:796: UndefinedMetricWarning: R^2 score is not well-defined with less than two samples.\n",
      "  warnings.warn(msg, UndefinedMetricWarning)\n",
      "/home/fede/anaconda3/lib/python3.9/site-packages/sklearn/metrics/_regression.py:796: UndefinedMetricWarning: R^2 score is not well-defined with less than two samples.\n",
      "  warnings.warn(msg, UndefinedMetricWarning)\n",
      "/home/fede/anaconda3/lib/python3.9/site-packages/sklearn/metrics/_regression.py:796: UndefinedMetricWarning: R^2 score is not well-defined with less than two samples.\n",
      "  warnings.warn(msg, UndefinedMetricWarning)\n",
      "/home/fede/anaconda3/lib/python3.9/site-packages/sklearn/metrics/_regression.py:796: UndefinedMetricWarning: R^2 score is not well-defined with less than two samples.\n",
      "  warnings.warn(msg, UndefinedMetricWarning)\n"
     ]
    },
    {
     "name": "stderr",
     "output_type": "stream",
     "text": [
      "/home/fede/anaconda3/lib/python3.9/site-packages/sklearn/metrics/_regression.py:796: UndefinedMetricWarning: R^2 score is not well-defined with less than two samples.\n",
      "  warnings.warn(msg, UndefinedMetricWarning)\n",
      "/home/fede/anaconda3/lib/python3.9/site-packages/sklearn/metrics/_regression.py:796: UndefinedMetricWarning: R^2 score is not well-defined with less than two samples.\n",
      "  warnings.warn(msg, UndefinedMetricWarning)\n",
      "/home/fede/anaconda3/lib/python3.9/site-packages/sklearn/metrics/_regression.py:796: UndefinedMetricWarning: R^2 score is not well-defined with less than two samples.\n",
      "  warnings.warn(msg, UndefinedMetricWarning)\n",
      "/home/fede/anaconda3/lib/python3.9/site-packages/sklearn/metrics/_regression.py:796: UndefinedMetricWarning: R^2 score is not well-defined with less than two samples.\n",
      "  warnings.warn(msg, UndefinedMetricWarning)\n",
      "/home/fede/anaconda3/lib/python3.9/site-packages/sklearn/metrics/_regression.py:796: UndefinedMetricWarning: R^2 score is not well-defined with less than two samples.\n",
      "  warnings.warn(msg, UndefinedMetricWarning)\n",
      "/home/fede/anaconda3/lib/python3.9/site-packages/sklearn/metrics/_regression.py:796: UndefinedMetricWarning: R^2 score is not well-defined with less than two samples.\n",
      "  warnings.warn(msg, UndefinedMetricWarning)\n",
      "/home/fede/anaconda3/lib/python3.9/site-packages/sklearn/metrics/_regression.py:796: UndefinedMetricWarning: R^2 score is not well-defined with less than two samples.\n",
      "  warnings.warn(msg, UndefinedMetricWarning)\n",
      "/home/fede/anaconda3/lib/python3.9/site-packages/sklearn/metrics/_regression.py:796: UndefinedMetricWarning: R^2 score is not well-defined with less than two samples.\n",
      "  warnings.warn(msg, UndefinedMetricWarning)\n",
      "/home/fede/anaconda3/lib/python3.9/site-packages/sklearn/metrics/_regression.py:796: UndefinedMetricWarning: R^2 score is not well-defined with less than two samples.\n",
      "  warnings.warn(msg, UndefinedMetricWarning)\n",
      "/home/fede/anaconda3/lib/python3.9/site-packages/sklearn/metrics/_regression.py:796: UndefinedMetricWarning: R^2 score is not well-defined with less than two samples.\n",
      "  warnings.warn(msg, UndefinedMetricWarning)\n",
      "/home/fede/anaconda3/lib/python3.9/site-packages/sklearn/metrics/_regression.py:796: UndefinedMetricWarning: R^2 score is not well-defined with less than two samples.\n",
      "  warnings.warn(msg, UndefinedMetricWarning)\n",
      "/home/fede/anaconda3/lib/python3.9/site-packages/sklearn/metrics/_regression.py:796: UndefinedMetricWarning: R^2 score is not well-defined with less than two samples.\n",
      "  warnings.warn(msg, UndefinedMetricWarning)\n",
      "/home/fede/anaconda3/lib/python3.9/site-packages/sklearn/metrics/_regression.py:796: UndefinedMetricWarning: R^2 score is not well-defined with less than two samples.\n",
      "  warnings.warn(msg, UndefinedMetricWarning)\n",
      "/home/fede/anaconda3/lib/python3.9/site-packages/sklearn/metrics/_regression.py:796: UndefinedMetricWarning: R^2 score is not well-defined with less than two samples.\n",
      "  warnings.warn(msg, UndefinedMetricWarning)\n",
      "/home/fede/anaconda3/lib/python3.9/site-packages/sklearn/model_selection/_search.py:969: UserWarning: One or more of the test scores are non-finite: [nan nan nan nan nan nan nan nan nan nan nan nan nan nan nan nan nan nan\n",
      " nan nan nan nan nan nan nan]\n",
      "  warnings.warn(\n"
     ]
    },
    {
     "data": {
      "text/plain": [
       "GridSearchCV(cv=2,\n",
       "             estimator=Pipeline(steps=[('imputer', SimpleImputer()),\n",
       "                                       ('core_model',\n",
       "                                        GradientBoostingRegressor())]),\n",
       "             param_grid={'core_model__n_estimators': range(20, 501, 20)},\n",
       "             scoring='r2')"
      ]
     },
     "execution_count": 34,
     "metadata": {},
     "output_type": "execute_result"
    }
   ],
   "source": [
    "grid_search.fit(X_train, y_train)"
   ]
  },
  {
   "cell_type": "code",
   "execution_count": 35,
   "metadata": {},
   "outputs": [
    {
     "name": "stderr",
     "output_type": "stream",
     "text": [
      "/home/fede/anaconda3/lib/python3.9/site-packages/sklearn/metrics/_regression.py:796: UndefinedMetricWarning: R^2 score is not well-defined with less than two samples.\n",
      "  warnings.warn(msg, UndefinedMetricWarning)\n",
      "/home/fede/anaconda3/lib/python3.9/site-packages/sklearn/metrics/_regression.py:796: UndefinedMetricWarning: R^2 score is not well-defined with less than two samples.\n",
      "  warnings.warn(msg, UndefinedMetricWarning)\n"
     ]
    }
   ],
   "source": [
    "final_result = cross_validate(grid_search.best_estimator_,X_train,y_train,return_train_score=True,cv=2)\n"
   ]
  },
  {
   "cell_type": "code",
   "execution_count": 36,
   "metadata": {},
   "outputs": [
    {
     "name": "stdout",
     "output_type": "stream",
     "text": [
      "Train Score: nan\n",
      "Test Score: nan\n"
     ]
    }
   ],
   "source": [
    "train_score = np.mean(final_result['train_score'])\n",
    "test_score = np.mean(final_result['test_score'])\n",
    "# assert train_score > 0.7\n",
    "# assert test_score > 0.65\n",
    "print(f'Train Score: {train_score}')\n",
    "print(f'Test Score: {test_score}')"
   ]
  },
  {
   "cell_type": "code",
   "execution_count": 37,
   "metadata": {},
   "outputs": [
    {
     "data": {
      "text/plain": [
       "{'memory': None,\n",
       " 'steps': [('imputer', SimpleImputer()),\n",
       "  ('core_model', GradientBoostingRegressor(n_estimators=20))],\n",
       " 'verbose': False,\n",
       " 'imputer': SimpleImputer(),\n",
       " 'core_model': GradientBoostingRegressor(n_estimators=20),\n",
       " 'imputer__add_indicator': False,\n",
       " 'imputer__copy': True,\n",
       " 'imputer__fill_value': None,\n",
       " 'imputer__missing_values': nan,\n",
       " 'imputer__strategy': 'mean',\n",
       " 'imputer__verbose': 0,\n",
       " 'core_model__alpha': 0.9,\n",
       " 'core_model__ccp_alpha': 0.0,\n",
       " 'core_model__criterion': 'friedman_mse',\n",
       " 'core_model__init': None,\n",
       " 'core_model__learning_rate': 0.1,\n",
       " 'core_model__loss': 'squared_error',\n",
       " 'core_model__max_depth': 3,\n",
       " 'core_model__max_features': None,\n",
       " 'core_model__max_leaf_nodes': None,\n",
       " 'core_model__min_impurity_decrease': 0.0,\n",
       " 'core_model__min_samples_leaf': 1,\n",
       " 'core_model__min_samples_split': 2,\n",
       " 'core_model__min_weight_fraction_leaf': 0.0,\n",
       " 'core_model__n_estimators': 20,\n",
       " 'core_model__n_iter_no_change': None,\n",
       " 'core_model__random_state': None,\n",
       " 'core_model__subsample': 1.0,\n",
       " 'core_model__tol': 0.0001,\n",
       " 'core_model__validation_fraction': 0.1,\n",
       " 'core_model__verbose': 0,\n",
       " 'core_model__warm_start': False}"
      ]
     },
     "execution_count": 37,
     "metadata": {},
     "output_type": "execute_result"
    }
   ],
   "source": [
    "grid_search.best_estimator_.get_params()"
   ]
  },
  {
   "cell_type": "code",
   "execution_count": 38,
   "metadata": {},
   "outputs": [],
   "source": [
    "estimator = Pipeline([\n",
    "    ('imputer', SimpleImputer(missing_values=np.nan, strategy='mean')),\n",
    "    ('core_model', GradientBoostingRegressor(n_estimators=220,\n",
    "                                             alpha=0.9,\n",
    "                                             ccp_alpha=0.0,\n",
    "                                             criterion='friedman_mse',\n",
    "                                             init=None,\n",
    "                                             learning_rate=0.1,\n",
    "                                             loss='squared_error',\n",
    "                                             max_depth=3,\n",
    "                                             max_features=None,\n",
    "                                             max_leaf_nodes=None,\n",
    "                                             min_impurity_decrease=0.0,\n",
    "                                             min_samples_leaf=1,\n",
    "                                             min_samples_split=2,\n",
    "                                             min_weight_fraction_leaf=0.0,\n",
    "                                             n_iter_no_change=None,\n",
    "                                             random_state=None,\n",
    "                                             subsample=1.0,\n",
    "                                             tol=0.0001,\n",
    "                                             validation_fraction=0.1,\n",
    "                                             verbose=0,\n",
    "                                             warm_start=False))\n",
    "])"
   ]
  },
  {
   "cell_type": "code",
   "execution_count": 39,
   "metadata": {},
   "outputs": [
    {
     "data": {
      "text/plain": [
       "Pipeline(steps=[('imputer', SimpleImputer()),\n",
       "                ('core_model', GradientBoostingRegressor(n_estimators=220))])"
      ]
     },
     "execution_count": 39,
     "metadata": {},
     "output_type": "execute_result"
    }
   ],
   "source": [
    "estimator.fit(X_train,y_train)"
   ]
  },
  {
   "cell_type": "code",
   "execution_count": 40,
   "metadata": {},
   "outputs": [
    {
     "data": {
      "text/plain": [
       "0.254694588356454"
      ]
     },
     "execution_count": 40,
     "metadata": {},
     "output_type": "execute_result"
    }
   ],
   "source": [
    "estimator.score(X_test, y_test)"
   ]
  },
  {
   "attachments": {},
   "cell_type": "markdown",
   "metadata": {},
   "source": [
    "## Saving model"
   ]
  },
  {
   "cell_type": "code",
   "execution_count": 41,
   "metadata": {},
   "outputs": [],
   "source": [
    "from joblib import dump"
   ]
  },
  {
   "cell_type": "code",
   "execution_count": 43,
   "metadata": {},
   "outputs": [
    {
     "data": {
      "text/plain": [
       "['../model/model.pkl']"
      ]
     },
     "execution_count": 43,
     "metadata": {},
     "output_type": "execute_result"
    }
   ],
   "source": [
    "dump(estimator, 'model/model.pkl')"
   ]
  },
  {
   "cell_type": "code",
   "execution_count": 55,
   "metadata": {},
   "outputs": [],
   "source": [
    "def save_metrics_report(train_score: float, test_score: float, validation_score: float,\n",
    "                        model: Pipeline):\n",
    "    \"\"\"Create a report file.\n",
    "\n",
    "    Args:\n",
    "        train_score (float): Train score of model.\n",
    "        test_score (float): Test score of model.\n",
    "        validation_score (float): Validation score of model.\n",
    "        model (Pipeline): Modele pipeline.\n",
    "    \"\"\"\n",
    "    with open('report.txt', 'w', encoding='utf-8') as report_file:\n",
    "\n",
    "        report_file.write('# Model Pipeline Description'+'\\n')\n",
    "\n",
    "        for key, value in model.named_steps.items():\n",
    "            report_file.write(f'### {key}:{value.__repr__()}'+'\\n')\n",
    "\n",
    "        report_file.write(f'### Train Score: {train_score}'+'\\n')\n",
    "        report_file.write(f'### Test Score: {test_score}'+'\\n')\n",
    "        report_file.write(f'### Validation Score: {validation_score}'+'\\n')"
   ]
  },
  {
   "cell_type": "code",
   "execution_count": 57,
   "metadata": {},
   "outputs": [],
   "source": [
    "validation_score = grid_search.best_estimator_.score(X_test, y_test)\n",
    "save_metrics_report(train_score, test_score, validation_score, grid_search.best_estimator_)"
   ]
  },
  {
   "cell_type": "code",
   "execution_count": 58,
   "metadata": {},
   "outputs": [],
   "source": [
    "y_test_pred = grid_search.best_estimator_.predict(X_test)"
   ]
  }
 ],
 "metadata": {
  "kernelspec": {
   "display_name": "Python 3 (ipykernel)",
   "language": "python",
   "name": "python3"
  },
  "language_info": {
   "codemirror_mode": {
    "name": "ipython",
    "version": 3
   },
   "file_extension": ".py",
   "mimetype": "text/x-python",
   "name": "python",
   "nbconvert_exporter": "python",
   "pygments_lexer": "ipython3",
   "version": "3.9.13"
  }
 },
 "nbformat": 4,
 "nbformat_minor": 2
}
